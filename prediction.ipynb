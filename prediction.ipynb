{
 "cells": [
  {
   "cell_type": "code",
   "execution_count": 1,
   "metadata": {},
   "outputs": [],
   "source": [
    "import numpy as np\n",
    "import tensorflow as tf\n",
    "from tensorflow.keras.datasets import imdb\n",
    "from tensorflow.keras.preprocessing import sequence\n",
    "from tensorflow.keras.models import load_model"
   ]
  },
  {
   "cell_type": "code",
   "execution_count": 2,
   "metadata": {},
   "outputs": [],
   "source": [
    "# Load the IMDB dataset index\n",
    "word_index = imdb.get_word_index()\n",
    "reverse_word_index = {value: key for key, value in word_index.items()}"
   ]
  },
  {
   "cell_type": "code",
   "execution_count": 3,
   "metadata": {},
   "outputs": [
    {
     "name": "stderr",
     "output_type": "stream",
     "text": [
      "WARNING:absl:Compiled the loaded model, but the compiled metrics have yet to be built. `model.compile_metrics` will be empty until you train or evaluate the model.\n"
     ]
    }
   ],
   "source": [
    "# Load the pretrained model with ReLU activation\n",
    "model = load_model('simple_rnn_imdb.h5')"
   ]
  },
  {
   "cell_type": "code",
   "execution_count": 4,
   "metadata": {},
   "outputs": [
    {
     "data": {
      "text/html": [
       "<pre style=\"white-space:pre;overflow-x:auto;line-height:normal;font-family:Menlo,'DejaVu Sans Mono',consolas,'Courier New',monospace\"><span style=\"font-weight: bold\">Model: \"sequential_1\"</span>\n",
       "</pre>\n"
      ],
      "text/plain": [
       "\u001b[1mModel: \"sequential_1\"\u001b[0m\n"
      ]
     },
     "metadata": {},
     "output_type": "display_data"
    },
    {
     "data": {
      "text/html": [
       "<pre style=\"white-space:pre;overflow-x:auto;line-height:normal;font-family:Menlo,'DejaVu Sans Mono',consolas,'Courier New',monospace\">┏━━━━━━━━━━━━━━━━━━━━━━━━━━━━━━━━━┳━━━━━━━━━━━━━━━━━━━━━━━━┳━━━━━━━━━━━━━━━┓\n",
       "┃<span style=\"font-weight: bold\"> Layer (type)                    </span>┃<span style=\"font-weight: bold\"> Output Shape           </span>┃<span style=\"font-weight: bold\">       Param # </span>┃\n",
       "┡━━━━━━━━━━━━━━━━━━━━━━━━━━━━━━━━━╇━━━━━━━━━━━━━━━━━━━━━━━━╇━━━━━━━━━━━━━━━┩\n",
       "│ embedding_1 (<span style=\"color: #0087ff; text-decoration-color: #0087ff\">Embedding</span>)         │ (<span style=\"color: #00af00; text-decoration-color: #00af00\">32</span>, <span style=\"color: #00af00; text-decoration-color: #00af00\">500</span>, <span style=\"color: #00af00; text-decoration-color: #00af00\">128</span>)         │     <span style=\"color: #00af00; text-decoration-color: #00af00\">1,280,000</span> │\n",
       "├─────────────────────────────────┼────────────────────────┼───────────────┤\n",
       "│ simple_rnn_1 (<span style=\"color: #0087ff; text-decoration-color: #0087ff\">SimpleRNN</span>)        │ (<span style=\"color: #00af00; text-decoration-color: #00af00\">32</span>, <span style=\"color: #00af00; text-decoration-color: #00af00\">128</span>)              │        <span style=\"color: #00af00; text-decoration-color: #00af00\">32,896</span> │\n",
       "├─────────────────────────────────┼────────────────────────┼───────────────┤\n",
       "│ dense_1 (<span style=\"color: #0087ff; text-decoration-color: #0087ff\">Dense</span>)                 │ (<span style=\"color: #00af00; text-decoration-color: #00af00\">32</span>, <span style=\"color: #00af00; text-decoration-color: #00af00\">1</span>)                │           <span style=\"color: #00af00; text-decoration-color: #00af00\">129</span> │\n",
       "└─────────────────────────────────┴────────────────────────┴───────────────┘\n",
       "</pre>\n"
      ],
      "text/plain": [
       "┏━━━━━━━━━━━━━━━━━━━━━━━━━━━━━━━━━┳━━━━━━━━━━━━━━━━━━━━━━━━┳━━━━━━━━━━━━━━━┓\n",
       "┃\u001b[1m \u001b[0m\u001b[1mLayer (type)                   \u001b[0m\u001b[1m \u001b[0m┃\u001b[1m \u001b[0m\u001b[1mOutput Shape          \u001b[0m\u001b[1m \u001b[0m┃\u001b[1m \u001b[0m\u001b[1m      Param #\u001b[0m\u001b[1m \u001b[0m┃\n",
       "┡━━━━━━━━━━━━━━━━━━━━━━━━━━━━━━━━━╇━━━━━━━━━━━━━━━━━━━━━━━━╇━━━━━━━━━━━━━━━┩\n",
       "│ embedding_1 (\u001b[38;5;33mEmbedding\u001b[0m)         │ (\u001b[38;5;34m32\u001b[0m, \u001b[38;5;34m500\u001b[0m, \u001b[38;5;34m128\u001b[0m)         │     \u001b[38;5;34m1,280,000\u001b[0m │\n",
       "├─────────────────────────────────┼────────────────────────┼───────────────┤\n",
       "│ simple_rnn_1 (\u001b[38;5;33mSimpleRNN\u001b[0m)        │ (\u001b[38;5;34m32\u001b[0m, \u001b[38;5;34m128\u001b[0m)              │        \u001b[38;5;34m32,896\u001b[0m │\n",
       "├─────────────────────────────────┼────────────────────────┼───────────────┤\n",
       "│ dense_1 (\u001b[38;5;33mDense\u001b[0m)                 │ (\u001b[38;5;34m32\u001b[0m, \u001b[38;5;34m1\u001b[0m)                │           \u001b[38;5;34m129\u001b[0m │\n",
       "└─────────────────────────────────┴────────────────────────┴───────────────┘\n"
      ]
     },
     "metadata": {},
     "output_type": "display_data"
    },
    {
     "data": {
      "text/html": [
       "<pre style=\"white-space:pre;overflow-x:auto;line-height:normal;font-family:Menlo,'DejaVu Sans Mono',consolas,'Courier New',monospace\"><span style=\"font-weight: bold\"> Total params: </span><span style=\"color: #00af00; text-decoration-color: #00af00\">1,313,027</span> (5.01 MB)\n",
       "</pre>\n"
      ],
      "text/plain": [
       "\u001b[1m Total params: \u001b[0m\u001b[38;5;34m1,313,027\u001b[0m (5.01 MB)\n"
      ]
     },
     "metadata": {},
     "output_type": "display_data"
    },
    {
     "data": {
      "text/html": [
       "<pre style=\"white-space:pre;overflow-x:auto;line-height:normal;font-family:Menlo,'DejaVu Sans Mono',consolas,'Courier New',monospace\"><span style=\"font-weight: bold\"> Trainable params: </span><span style=\"color: #00af00; text-decoration-color: #00af00\">1,313,025</span> (5.01 MB)\n",
       "</pre>\n"
      ],
      "text/plain": [
       "\u001b[1m Trainable params: \u001b[0m\u001b[38;5;34m1,313,025\u001b[0m (5.01 MB)\n"
      ]
     },
     "metadata": {},
     "output_type": "display_data"
    },
    {
     "data": {
      "text/html": [
       "<pre style=\"white-space:pre;overflow-x:auto;line-height:normal;font-family:Menlo,'DejaVu Sans Mono',consolas,'Courier New',monospace\"><span style=\"font-weight: bold\"> Non-trainable params: </span><span style=\"color: #00af00; text-decoration-color: #00af00\">0</span> (0.00 B)\n",
       "</pre>\n"
      ],
      "text/plain": [
       "\u001b[1m Non-trainable params: \u001b[0m\u001b[38;5;34m0\u001b[0m (0.00 B)\n"
      ]
     },
     "metadata": {},
     "output_type": "display_data"
    },
    {
     "data": {
      "text/html": [
       "<pre style=\"white-space:pre;overflow-x:auto;line-height:normal;font-family:Menlo,'DejaVu Sans Mono',consolas,'Courier New',monospace\"><span style=\"font-weight: bold\"> Optimizer params: </span><span style=\"color: #00af00; text-decoration-color: #00af00\">2</span> (12.00 B)\n",
       "</pre>\n"
      ],
      "text/plain": [
       "\u001b[1m Optimizer params: \u001b[0m\u001b[38;5;34m2\u001b[0m (12.00 B)\n"
      ]
     },
     "metadata": {},
     "output_type": "display_data"
    }
   ],
   "source": [
    "model.summary()"
   ]
  },
  {
   "cell_type": "code",
   "execution_count": 5,
   "metadata": {},
   "outputs": [
    {
     "data": {
      "text/plain": [
       "[array([[ 0.0875872 , -0.24708602,  0.10561189, ...,  0.01568792,\n",
       "         -0.03819298, -0.6179591 ],\n",
       "        [-0.06352051,  0.00294849, -0.03823373, ...,  0.01945034,\n",
       "         -0.01795258,  0.0129405 ],\n",
       "        [-0.04715668,  0.0122144 , -0.03250096, ...,  0.05965999,\n",
       "          0.02834299,  0.02206798],\n",
       "        ...,\n",
       "        [ 0.04920287, -0.05870789,  0.00686334, ...,  0.12397265,\n",
       "         -0.01933222, -0.05274417],\n",
       "        [-0.03249584,  0.05649376,  0.00277102, ..., -0.01583378,\n",
       "          0.02050409, -0.0037156 ],\n",
       "        [ 0.1353733 , -0.01429306,  0.09344073, ..., -0.07595402,\n",
       "         -0.08308747, -0.15501407]], dtype=float32),\n",
       " array([[-0.03244573,  0.03327663, -0.12827386, ..., -0.02654616,\n",
       "          0.04249334,  0.00326915],\n",
       "        [ 0.05298407, -0.0227184 ,  0.15181997, ..., -0.09803732,\n",
       "          0.05883253, -0.12422258],\n",
       "        [-0.06215069,  0.06133187,  0.02398876, ...,  0.00621534,\n",
       "         -0.06935657,  0.08488394],\n",
       "        ...,\n",
       "        [ 0.15978833,  0.06269337, -0.14052469, ..., -0.0146964 ,\n",
       "          0.04869701,  0.08780311],\n",
       "        [-0.07407518, -0.01437532,  0.11082441, ..., -0.0077532 ,\n",
       "          0.0027005 ,  0.0935096 ],\n",
       "        [ 0.04417744, -0.07779079,  0.16692168, ..., -0.04188761,\n",
       "          0.11569308,  0.11591228]], dtype=float32),\n",
       " array([[-0.18384442,  0.09848785, -0.15543109, ..., -0.12889239,\n",
       "         -0.03955566,  0.09820724],\n",
       "        [ 0.19004236, -0.00093963, -0.14350556, ...,  0.02163191,\n",
       "         -0.02756515, -0.09974523],\n",
       "        [-0.07786903,  0.11605393, -0.12534745, ..., -0.07032619,\n",
       "         -0.01818096, -0.02660284],\n",
       "        ...,\n",
       "        [-0.09309828, -0.13815461, -0.04198606, ..., -0.01075286,\n",
       "          0.0022153 , -0.04994714],\n",
       "        [-0.08134171,  0.03686189, -0.0347001 , ...,  0.0980387 ,\n",
       "         -0.03580981,  0.02054355],\n",
       "        [-0.09943295,  0.05958451,  0.04566262, ..., -0.00553822,\n",
       "         -0.00596383, -0.18663964]], dtype=float32),\n",
       " array([-8.6728828e-03,  3.5817485e-02, -1.2596098e-02,  1.4504376e-03,\n",
       "        -1.4023903e-02,  1.0923922e-02, -2.6004588e-02, -6.4428919e-03,\n",
       "         5.4882262e-03, -1.1921210e-02, -1.2689807e-02, -4.9789953e-03,\n",
       "        -1.2070858e-02,  1.7984729e-02, -1.9793103e-02, -4.9084197e-03,\n",
       "         2.4786581e-01,  1.5039842e-02, -3.9795726e-03,  4.0092405e-02,\n",
       "         1.3363400e-02, -2.3483437e-02, -3.1388300e-03,  1.1356688e-02,\n",
       "        -1.4977329e-02,  2.5502956e-02, -2.4266462e-03,  8.4402254e-03,\n",
       "        -9.7165024e-03,  4.5431443e-03, -8.7761460e-03, -3.2742478e-02,\n",
       "        -1.6705547e-02,  3.0397708e-02, -7.2995587e-03, -6.4788959e-03,\n",
       "         2.8874227e-03, -8.2573071e-03, -3.0324860e-02, -8.8695884e-03,\n",
       "        -5.2043907e-03,  1.9721884e-02, -1.2797122e-03,  4.3140214e-02,\n",
       "        -7.2076765e-04, -1.1441841e-02, -2.2626339e-04, -3.7445459e-03,\n",
       "        -1.4601756e-02, -1.3494703e-02,  7.4842985e-04,  1.6315812e-02,\n",
       "         1.2258631e-02, -8.4532361e-04,  2.8829468e-02,  3.3525696e-03,\n",
       "        -5.1274253e-03, -5.3278734e-03,  3.2543619e-03,  9.5918821e-03,\n",
       "        -1.5026459e-02,  6.9955643e-04, -9.1615375e-03,  1.1537599e-02,\n",
       "        -1.5191897e-03,  7.2549093e-03, -1.3080718e-02, -3.7652478e-02,\n",
       "         3.7284553e-02, -2.9719716e-02, -2.5398593e-02, -8.3096316e-03,\n",
       "         4.2366397e-02, -1.7373525e-02, -1.9189304e-02, -5.3258748e-03,\n",
       "        -3.8013287e-02, -4.0904093e-03, -7.8717060e-03, -1.0379277e-02,\n",
       "        -4.7264281e-03, -2.7066007e-02, -9.9670785e-03, -3.6867209e-02,\n",
       "        -4.4715148e-03, -1.1553793e-02, -3.6648825e-02, -1.6243903e-02,\n",
       "        -6.0621891e-03, -1.3621434e-02, -5.3033289e-03, -8.3900109e-04,\n",
       "         1.1556868e-02, -7.0404964e-03, -1.2629302e-02,  5.9311069e-03,\n",
       "        -5.8595431e-03, -2.9476203e-03,  2.1874374e-02,  2.1874629e-02,\n",
       "        -4.0955110e-03, -3.2483481e-02,  3.3388555e-02, -9.8156137e-03,\n",
       "         1.6712153e-02, -8.1386613e-03, -2.2422966e-02, -2.1741504e-02,\n",
       "         1.6293081e-02,  1.3348410e-03, -4.7688704e-02,  2.6052424e-03,\n",
       "        -4.3625571e-03, -1.7227357e-03, -4.3935375e-03, -1.5397751e-02,\n",
       "        -9.6864542e-03, -6.4500043e-04, -3.3287540e-02, -2.2077298e-02,\n",
       "         5.5931048e-03,  1.7814696e-03, -1.0791279e-02, -1.7406881e-02,\n",
       "         1.8385591e-02, -1.4341476e-02, -1.6973590e-03, -2.1103567e-02],\n",
       "       dtype=float32),\n",
       " array([[-0.21135648],\n",
       "        [-0.09662759],\n",
       "        [ 0.0278302 ],\n",
       "        [-0.01997035],\n",
       "        [-0.30502397],\n",
       "        [-0.5625626 ],\n",
       "        [ 0.2612469 ],\n",
       "        [ 0.20117503],\n",
       "        [-0.11513613],\n",
       "        [ 0.7767868 ],\n",
       "        [-0.07138479],\n",
       "        [-0.16083175],\n",
       "        [-0.14653651],\n",
       "        [-0.12421288],\n",
       "        [ 0.2800873 ],\n",
       "        [ 0.21394637],\n",
       "        [ 0.30826774],\n",
       "        [-0.77780163],\n",
       "        [ 0.21988933],\n",
       "        [-0.17235385],\n",
       "        [-0.0312163 ],\n",
       "        [-0.6367386 ],\n",
       "        [-0.01523022],\n",
       "        [ 0.15974441],\n",
       "        [ 0.19450703],\n",
       "        [-0.15247878],\n",
       "        [ 0.12627713],\n",
       "        [ 0.1833891 ],\n",
       "        [ 0.17595349],\n",
       "        [-0.2018538 ],\n",
       "        [ 0.12348751],\n",
       "        [-0.36601084],\n",
       "        [ 0.14724182],\n",
       "        [-0.20332123],\n",
       "        [ 0.13223912],\n",
       "        [-0.3678894 ],\n",
       "        [ 0.05034234],\n",
       "        [ 0.18712343],\n",
       "        [ 0.2600632 ],\n",
       "        [-0.51982355],\n",
       "        [ 0.11657893],\n",
       "        [-0.17597732],\n",
       "        [-0.02432526],\n",
       "        [-0.00648439],\n",
       "        [-0.10249785],\n",
       "        [-0.18404147],\n",
       "        [-0.15853988],\n",
       "        [-0.15888098],\n",
       "        [ 0.20125967],\n",
       "        [ 0.02554583],\n",
       "        [ 0.202104  ],\n",
       "        [ 0.0293605 ],\n",
       "        [-0.09127065],\n",
       "        [ 0.06100736],\n",
       "        [ 0.03685116],\n",
       "        [ 0.16311145],\n",
       "        [-0.08094671],\n",
       "        [ 0.21320812],\n",
       "        [ 0.05033694],\n",
       "        [ 0.13160549],\n",
       "        [-0.6844643 ],\n",
       "        [ 0.01127805],\n",
       "        [ 0.0463689 ],\n",
       "        [ 0.12654062],\n",
       "        [-0.1457141 ],\n",
       "        [ 0.11189054],\n",
       "        [ 0.08508129],\n",
       "        [-0.14849563],\n",
       "        [-0.14895304],\n",
       "        [ 0.23192148],\n",
       "        [-0.02477163],\n",
       "        [-0.2687879 ],\n",
       "        [-0.16959782],\n",
       "        [ 0.11157487],\n",
       "        [ 0.11309065],\n",
       "        [-0.37423283],\n",
       "        [ 0.13810395],\n",
       "        [-0.08121833],\n",
       "        [-0.12666892],\n",
       "        [ 0.12579946],\n",
       "        [ 0.00421007],\n",
       "        [ 0.01488286],\n",
       "        [ 0.3881952 ],\n",
       "        [ 0.03032914],\n",
       "        [ 0.17183377],\n",
       "        [-0.44418627],\n",
       "        [ 0.00235587],\n",
       "        [-0.01954488],\n",
       "        [ 0.09126277],\n",
       "        [-0.03180825],\n",
       "        [ 0.02966262],\n",
       "        [-0.15061513],\n",
       "        [-0.26270992],\n",
       "        [-0.22411883],\n",
       "        [ 0.02258368],\n",
       "        [-0.08967699],\n",
       "        [-0.11069946],\n",
       "        [ 0.22049192],\n",
       "        [ 0.29990557],\n",
       "        [ 0.08736371],\n",
       "        [ 0.17293294],\n",
       "        [ 0.15688638],\n",
       "        [-0.00807239],\n",
       "        [ 0.06980632],\n",
       "        [ 0.28323463],\n",
       "        [ 0.03664706],\n",
       "        [ 0.06897349],\n",
       "        [ 0.34395453],\n",
       "        [ 0.28973544],\n",
       "        [-0.13839404],\n",
       "        [ 0.01166875],\n",
       "        [ 0.11636966],\n",
       "        [-0.15123941],\n",
       "        [-0.31998718],\n",
       "        [-0.33671728],\n",
       "        [ 0.12502493],\n",
       "        [-0.02242778],\n",
       "        [-0.44395772],\n",
       "        [ 0.1223497 ],\n",
       "        [ 0.00327973],\n",
       "        [-0.08704206],\n",
       "        [ 0.00982914],\n",
       "        [ 0.09426096],\n",
       "        [-0.18196969],\n",
       "        [-0.10127842],\n",
       "        [-0.33934045],\n",
       "        [-0.13054416],\n",
       "        [ 0.3262233 ]], dtype=float32),\n",
       " array([-0.14644757], dtype=float32)]"
      ]
     },
     "execution_count": 5,
     "metadata": {},
     "output_type": "execute_result"
    }
   ],
   "source": [
    "model.get_weights()"
   ]
  },
  {
   "cell_type": "code",
   "execution_count": 6,
   "metadata": {},
   "outputs": [],
   "source": [
    "def decoded_review(encoded_review):\n",
    "    return ' '.join([reverse_word_index.get(i-3, '?') for i in encoded_review])\n",
    "\n",
    "def preprocess_text(text):\n",
    "    words = text.lower().split()\n",
    "    encoded_review = [word_index.get(word, 2) + 3 for word in words]\n",
    "    padded_review = sequence.pad_sequences([encoded_review], maxlen=500)\n",
    "    return padded_review"
   ]
  },
  {
   "cell_type": "code",
   "execution_count": 7,
   "metadata": {},
   "outputs": [],
   "source": [
    "# Prediction\n",
    "def predict_sentiment(review):\n",
    "    preprocessed_input = preprocess_text(review)\n",
    "    prediction = model.predict(preprocessed_input)\n",
    "    sentiment = 'Positive' if prediction[0][0] > 0.5 else 'Negative'\n",
    "    return sentiment, prediction[0][0]"
   ]
  },
  {
   "cell_type": "code",
   "execution_count": null,
   "metadata": {},
   "outputs": [
    {
     "name": "stdout",
     "output_type": "stream",
     "text": [
      "\u001b[1m1/1\u001b[0m \u001b[32m━━━━━━━━━━━━━━━━━━━━\u001b[0m\u001b[37m\u001b[0m \u001b[1m0s\u001b[0m 51ms/step\n",
      "Review: This movie was fantastic! The acting was great and the plot was thrilling.\n",
      "Sentiment: Positive\n",
      "Score: 0.9966275691986084\n"
     ]
    }
   ],
   "source": [
    "example_review = \"This movie was fantastic! The acting was great and the plot was thrilling.\"\n",
    "sentiment, score = predict_sentiment(example_review)\n",
    "print(f\"Review: {example_review}\\nSentiment: {sentiment}\\nScore: {score}\")"
   ]
  }
 ],
 "metadata": {
  "kernelspec": {
   "display_name": "base",
   "language": "python",
   "name": "python3"
  },
  "language_info": {
   "codemirror_mode": {
    "name": "ipython",
    "version": 3
   },
   "file_extension": ".py",
   "mimetype": "text/x-python",
   "name": "python",
   "nbconvert_exporter": "python",
   "pygments_lexer": "ipython3",
   "version": "3.12.4"
  }
 },
 "nbformat": 4,
 "nbformat_minor": 2
}
